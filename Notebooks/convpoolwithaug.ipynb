{
 "cells": [
  {
   "cell_type": "markdown",
   "metadata": {
    "collapsed": true
   },
   "source": [
    " ## Normal conv pool with data augmentation by adjusting the zoom range of factor 0.3.\n",
    " \n",
    " \n",
    " In this notebook, I built upon the convpool architecture with one that has data augmentation built into the training set.\n",
    " \n",
    " * I decided to just change the ```zoom_range``` by 0.3 to analyse the finer features of the spectrograms better and to further generalize the training set to prevent overfitting.\n",
    " \n",
    " * Doing a rotation, shear, or flip would change the time-dependency on the X-axis of the spectrogram image, and lead to undesirable outcomes. Therefore I left those parameters as is."
   ]
  },
  {
   "cell_type": "code",
   "execution_count": 8,
   "metadata": {
    "collapsed": true
   },
   "outputs": [],
   "source": [
    "import matplotlib.pyplot as plt"
   ]
  },
  {
   "cell_type": "code",
   "execution_count": 3,
   "metadata": {},
   "outputs": [
    {
     "name": "stdout",
     "output_type": "stream",
     "text": [
      "Found 6394 images belonging to 8 classes.\n",
      "Found 800 images belonging to 8 classes.\n",
      "Found 800 images belonging to 8 classes.\n",
      "data batch shape: (20, 128, 1024, 3)\n",
      "labels batch shape: (20, 8)\n",
      "_________________________________________________________________\n",
      "Layer (type)                 Output Shape              Param #   \n",
      "=================================================================\n",
      "conv2d_5 (Conv2D)            (None, 63, 511, 32)       1568      \n",
      "_________________________________________________________________\n",
      "batch_normalization_6 (Batch (None, 63, 511, 32)       128       \n",
      "_________________________________________________________________\n",
      "max_pooling2d_5 (MaxPooling2 (None, 31, 255, 32)       0         \n",
      "_________________________________________________________________\n",
      "conv2d_6 (Conv2D)            (None, 15, 127, 32)       9248      \n",
      "_________________________________________________________________\n",
      "batch_normalization_7 (Batch (None, 15, 127, 32)       128       \n",
      "_________________________________________________________________\n",
      "max_pooling2d_6 (MaxPooling2 (None, 7, 63, 32)         0         \n",
      "_________________________________________________________________\n",
      "conv2d_7 (Conv2D)            (None, 6, 62, 64)         8256      \n",
      "_________________________________________________________________\n",
      "batch_normalization_8 (Batch (None, 6, 62, 64)         256       \n",
      "_________________________________________________________________\n",
      "max_pooling2d_7 (MaxPooling2 (None, 3, 31, 64)         0         \n",
      "_________________________________________________________________\n",
      "conv2d_8 (Conv2D)            (None, 2, 30, 128)        32896     \n",
      "_________________________________________________________________\n",
      "batch_normalization_9 (Batch (None, 2, 30, 128)        512       \n",
      "_________________________________________________________________\n",
      "max_pooling2d_8 (MaxPooling2 (None, 1, 15, 128)        0         \n",
      "_________________________________________________________________\n",
      "dropout_3 (Dropout)          (None, 1, 15, 128)        0         \n",
      "_________________________________________________________________\n",
      "flatten_2 (Flatten)          (None, 1920)              0         \n",
      "_________________________________________________________________\n",
      "dense_3 (Dense)              (None, 1024)              1967104   \n",
      "_________________________________________________________________\n",
      "batch_normalization_10 (Batc (None, 1024)              4096      \n",
      "_________________________________________________________________\n",
      "activation_2 (Activation)    (None, 1024)              0         \n",
      "_________________________________________________________________\n",
      "dropout_4 (Dropout)          (None, 1024)              0         \n",
      "_________________________________________________________________\n",
      "dense_4 (Dense)              (None, 8)                 8200      \n",
      "=================================================================\n",
      "Total params: 2,032,392\n",
      "Trainable params: 2,029,832\n",
      "Non-trainable params: 2,560\n",
      "_________________________________________________________________\n",
      "None\n",
      "Training model:\n",
      "Epoch 1/20\n",
      "319/319 [==============================] - 140s - loss: 2.2002 - acc: 0.2851 - val_loss: 2.9921 - val_acc: 0.1613\n",
      "Epoch 2/20\n",
      "319/319 [==============================] - 136s - loss: 1.8772 - acc: 0.3491 - val_loss: 2.1272 - val_acc: 0.2475\n",
      "Epoch 3/20\n",
      "319/319 [==============================] - 134s - loss: 1.7481 - acc: 0.3862 - val_loss: 4.1722 - val_acc: 0.1425\n",
      "Epoch 4/20\n",
      "319/319 [==============================] - 136s - loss: 1.6839 - acc: 0.4074 - val_loss: 3.3760 - val_acc: 0.1700\n",
      "Epoch 5/20\n",
      "319/319 [==============================] - 136s - loss: 1.6125 - acc: 0.4297 - val_loss: 2.0093 - val_acc: 0.3375\n",
      "Epoch 6/20\n",
      "319/319 [==============================] - 136s - loss: 1.5684 - acc: 0.4498 - val_loss: 1.9335 - val_acc: 0.3188\n",
      "Epoch 7/20\n",
      "319/319 [==============================] - 137s - loss: 1.5387 - acc: 0.4607 - val_loss: 2.0146 - val_acc: 0.2800\n",
      "Epoch 8/20\n",
      "319/319 [==============================] - 137s - loss: 1.5187 - acc: 0.4664 - val_loss: 1.9874 - val_acc: 0.3138\n",
      "Epoch 9/20\n",
      "319/319 [==============================] - 139s - loss: 1.4966 - acc: 0.4719 - val_loss: 2.2766 - val_acc: 0.2275\n",
      "Epoch 10/20\n",
      "319/319 [==============================] - 137s - loss: 1.4999 - acc: 0.4783 - val_loss: 3.3491 - val_acc: 0.1263\n",
      "Epoch 11/20\n",
      "319/319 [==============================] - 137s - loss: 1.4761 - acc: 0.4760 - val_loss: 1.7460 - val_acc: 0.3588\n",
      "Epoch 12/20\n",
      "319/319 [==============================] - 138s - loss: 1.4558 - acc: 0.4850 - val_loss: 2.6894 - val_acc: 0.1538\n",
      "Epoch 13/20\n",
      "319/319 [==============================] - 137s - loss: 1.4457 - acc: 0.4924 - val_loss: 2.7841 - val_acc: 0.1388\n",
      "Epoch 14/20\n",
      "319/319 [==============================] - 137s - loss: 1.4202 - acc: 0.5060 - val_loss: 1.7892 - val_acc: 0.3575\n",
      "Epoch 15/20\n",
      "319/319 [==============================] - 138s - loss: 1.4113 - acc: 0.4944 - val_loss: 2.3891 - val_acc: 0.3588\n",
      "Epoch 16/20\n",
      "319/319 [==============================] - 137s - loss: 1.3867 - acc: 0.5144 - val_loss: 2.3736 - val_acc: 0.2288\n",
      "Epoch 17/20\n",
      "319/319 [==============================] - 138s - loss: 1.3736 - acc: 0.5241 - val_loss: 3.1529 - val_acc: 0.2113\n",
      "Epoch 18/20\n",
      "319/319 [==============================] - 139s - loss: 1.3779 - acc: 0.5160 - val_loss: 2.1122 - val_acc: 0.3038\n",
      "Epoch 19/20\n",
      "319/319 [==============================] - 138s - loss: 1.3709 - acc: 0.5188 - val_loss: 2.7945 - val_acc: 0.3263\n",
      "Epoch 20/20\n",
      "319/319 [==============================] - 138s - loss: 1.3299 - acc: 0.5342 - val_loss: 1.9626 - val_acc: 0.3000\n",
      "Training finished!\n",
      "Time taken: 2757.6153094768524s\n"
     ]
    }
   ],
   "source": [
    "from convpool import Convtrain as conv\n",
    "from keras.preprocessing.image import ImageDataGenerator\n",
    "\n",
    "train_datagen = ImageDataGenerator(\n",
    "      rescale=1./255,\n",
    "      rotation_range=0.,\n",
    "      width_shift_range=0.,\n",
    "      height_shift_range=0.,\n",
    "      shear_range=0.,\n",
    "      zoom_range=0.3,\n",
    "      horizontal_flip=False,\n",
    "      fill_mode='nearest')\n",
    "\n",
    "test_datagen = ImageDataGenerator(rescale=1./255)\n",
    "\n",
    "train_generator = train_datagen.flow_from_directory('dataset/', target_size = (128,1024), batch_size = 20, \n",
    "                                                    class_mode = 'categorical')\n",
    "\n",
    "validation_generator = test_datagen.flow_from_directory('validation/', target_size = (128,1024), batch_size =20,\n",
    "                                                       class_mode = 'categorical')\n",
    "test_generator = test_datagen.flow_from_directory('test/', target_size = (128,1024), batch_size = 20,\n",
    "                                                 class_mode = 'categorical')\n",
    "\n",
    "for data_batch, labels_batch in train_generator:\n",
    "    print('data batch shape:', data_batch.shape)\n",
    "    print('labels batch shape:', labels_batch.shape)\n",
    "    break\n",
    "\n",
    "Model = conv(input_shape=(128,1024,3))\n",
    "Model.compile()\n",
    "print(Model.model.summary())\n",
    "history = Model.fit_generator(train_generator, validation_generator, epochs=20)"
   ]
  },
  {
   "cell_type": "markdown",
   "metadata": {
    "collapsed": true
   },
   "source": [
    "Pretty bad accuracy"
   ]
  },
  {
   "cell_type": "code",
   "execution_count": 6,
   "metadata": {
    "collapsed": true
   },
   "outputs": [],
   "source": [
    "a = history.history"
   ]
  },
  {
   "cell_type": "code",
   "execution_count": 12,
   "metadata": {},
   "outputs": [
    {
     "data": {
      "image/png": "[encoded data removed]",
      "text/plain": [
       "<matplotlib.figure.Figure at 0x7f06742de320>"
      ]
     },
     "metadata": {},
     "output_type": "display_data"
    },
    {
     "data": {
      "image/png": "[encoded data removed]",
      "text/plain": [
       "<matplotlib.figure.Figure at 0x7f067417feb8>"
      ]
     },
     "metadata": {},
     "output_type": "display_data"
    }
   ],
   "source": [
    "acc = a['acc']\n",
    "val_acc = a['val_acc']\n",
    "loss = a['loss']\n",
    "val_loss = a['val_loss']\n",
    "\n",
    "epochs = range(len(acc))\n",
    "\n",
    "plt.plot(epochs, acc, 'bo', label='Training acc')\n",
    "plt.plot(epochs, val_acc, 'b', label='Validation acc')\n",
    "plt.title('Training and validation accuracy')\n",
    "ax = plt.gca()\n",
    "ax.set_ylim(0,1)\n",
    "ax.set_xticks([0,2,4,6,8,10,12,14,16,18,20])\n",
    "plt.legend()\n",
    "\n",
    "plt.figure()\n",
    "\n",
    "plt.plot(epochs, loss, 'bo', label='Training loss')\n",
    "plt.plot(epochs, val_loss, 'b', label='Validation loss')\n",
    "plt.title('Training and validation loss')\n",
    "ax = plt.gca()\n",
    "ax.set_xticks([0,2,4,6,8,10,12,14,16,18,20])\n",
    "plt.legend()\n",
    "\n",
    "plt.show()\n"
   ]
  },
  {
   "cell_type": "markdown",
   "metadata": {
    "collapsed": true
   },
   "source": [
    "Data Augmentation definitely helps in preventing the training set from overfitting so quickly. However, the accuracy gains are not good and the validation set doesn't seem to be getting better over the epochs. There is a huge variation in validation loss and accuracy as well. Perhaps a better architecture that would detect more granular features is needed."
   ]
  },
  {
   "cell_type": "code",
   "execution_count": null,
   "metadata": {
    "collapsed": true
   },
   "outputs": [],
   "source": []
  }
 ],
 "metadata": {
  "kernelspec": {
   "display_name": "Python 3",
   "language": "python",
   "name": "python3"
  },
  "language_info": {
   "codemirror_mode": {
    "name": "ipython",
    "version": 3
   },
   "file_extension": ".py",
   "mimetype": "text/x-python",
   "name": "python",
   "nbconvert_exporter": "python",
   "pygments_lexer": "ipython3",
   "version": "3.6.3"
  }
 },
 "nbformat": 4,
 "nbformat_minor": 2
}
