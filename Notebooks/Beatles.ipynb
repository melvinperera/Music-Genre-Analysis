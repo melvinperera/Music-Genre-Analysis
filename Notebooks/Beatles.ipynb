{
 "cells": [
  {
   "cell_type": "markdown",
   "metadata": {},
   "source": [
    "# Using my model to analyse the Beatles discography\n",
    "\n",
    "In this notebook I decided to mess around with my Beatles discography to see what I can uncover from this model. \n",
    "\n",
    "I sliced each audio file into spectrograms of 128x1024 pixels each, with an average of 23.78s of music per slice. I ran it through my pretrained convnet with the finetuned ResNet50 architecture, and found the mean for the classifiers for each softmax classifier to get the classification for each track."
   ]
  },
  {
   "cell_type": "code",
   "execution_count": 268,
   "metadata": {},
   "outputs": [],
   "source": [
    "from PIL import Image\n",
    "import librosa as lib\n",
    "import numpy as np\n",
    "import os\n",
    "from sklearn.preprocessing import MinMaxScaler\n",
    "from keras.preprocessing.image import ImageDataGenerator\n",
    "from keras.models import load_model\n",
    "import pandas as pd\n",
    "import matplotlib.pyplot as plt\n",
    "import pickle\n",
    "from sklearn.manifold import TSNE\n",
    "import seaborn as sns\n",
    "%matplotlib inline\n",
    "%config InlineBackend.figure_format = 'retina'\n",
    "%matplotlib notebook\n",
    "import plotly.plotly as py\n",
    "import plotly.graph_objs as go\n",
    "from plotly.offline import init_notebook_mode, iplot\n",
    "import pprint"
   ]
  },
  {
   "cell_type": "code",
   "execution_count": 152,
   "metadata": {},
   "outputs": [
    {
     "data": {
      "text/plain": [
       "'2.2.1'"
      ]
     },
     "execution_count": 152,
     "metadata": {},
     "output_type": "execute_result"
    }
   ],
   "source": [
    "plotly.__version__"
   ]
  },
  {
   "cell_type": "code",
   "execution_count": 6,
   "metadata": {},
   "outputs": [],
   "source": [
    "def cut_mel(mel):\n",
    "    '''Cuts the mel spectrogram up into 128*1024 size chunks to pass into the convolutional model'''\n",
    "    dict_of_mels = dict()\n",
    "    cut = int(mel.shape[1]/1024)\n",
    "    for i in range(1, cut+1):\n",
    "        dict_of_mels[i] = mel[:,(i-1)*1024:i*1024]\n",
    "    \n",
    "    return dict_of_mels\n"
   ]
  },
  {
   "cell_type": "markdown",
   "metadata": {},
   "source": [
    "For this cell, the files have to be in a directory \"Beatles_Discography\" with internal subdirectories being the various albums of the discography. I looped through every track in the discography, converted them into their respective melspectrograms, and saved it in the directory \"Beatlesimages\" for the convnet's predict generator to call from."
   ]
  },
  {
   "cell_type": "code",
   "execution_count": 9,
   "metadata": {},
   "outputs": [],
   "source": [
    "scaler = MinMaxScaler()\n",
    "directory = 'Beatles_Discography'\n",
    "\n",
    "for album in os.listdir(directory):\n",
    "    if not album.startswith('.'):\n",
    "        for file in os.listdir(directory + '/' + album):\n",
    "            if not file.startswith('.'):\n",
    "                f, sr = lib.core.load(directory + '/' + album + '/' + file)    #loads file\n",
    "                mel = lib.feature.melspectrogram(f, n_mels = 128)    # creates mel spectrogram\n",
    "                mel = lib.power_to_db(mel, ref=np.max)    # power scaled to db\n",
    "                melscaled = scaler.fit_transform(mel)     # fit transform between 0 and 1\n",
    "                x = np.array(melscaled)\n",
    "                dict_of_mels = cut_mel(x)\n",
    "\n",
    "                albumrenamed = album.replace(\" \", \"_\")\n",
    "                filerenamed = file[3:-4].replace(\" \",\"_\")\n",
    "\n",
    "                newdirectory = 'Beatlesimages' + '/' + albumrenamed + '/' + filerenamed\n",
    "                if not os.path.exists(newdirectory):\n",
    "                    os.makedirs(newdirectory)   # makes directory path\n",
    "\n",
    "                for index,melvalues in dict_of_mels.items():\n",
    "                    melstacked = np.stack((melvalues,)*3, axis=2)    # making it 3 channel\n",
    "                    rescaled = (255.0 /melstacked.max() * (melstacked - melstacked.min())).astype(np.uint8)\n",
    "                    im = Image.fromarray(rescaled)    # forming an image\n",
    "                    im.save('Beatlesimages/{}/{}/{}.jpeg'.format(albumrenamed,filerenamed, str(index)))\n"
   ]
  },
  {
   "cell_type": "markdown",
   "metadata": {},
   "source": [
    "Now I'm going to call the flow generator object to feed into the model."
   ]
  },
  {
   "cell_type": "code",
   "execution_count": 63,
   "metadata": {},
   "outputs": [
    {
     "name": "stdout",
     "output_type": "stream",
     "text": [
      "Found 1372 images belonging to 15 classes.\n",
      "data batch shape: (28, 200, 1024, 3)\n"
     ]
    }
   ],
   "source": [
    "test_datagen = ImageDataGenerator(rescale=1./255)\n",
    "test_generator = test_datagen.flow_from_directory('Beatlesimages/',\n",
    "                                                target_size = (200,1024), batch_size = 28,\n",
    "                                                class_mode = None, shuffle=False)\n",
    "for data_batch in test_generator:\n",
    "    print('data batch shape:', data_batch.shape)\n",
    "    break"
   ]
  },
  {
   "cell_type": "code",
   "execution_count": 57,
   "metadata": {},
   "outputs": [
    {
     "name": "stdout",
     "output_type": "stream",
     "text": [
      "1372\n"
     ]
    }
   ],
   "source": [
    "print(len(test_generator.filenames))"
   ]
  },
  {
   "cell_type": "markdown",
   "metadata": {},
   "source": [
    "Time to load the convolutional model."
   ]
  },
  {
   "cell_type": "code",
   "execution_count": 61,
   "metadata": {},
   "outputs": [
    {
     "name": "stdout",
     "output_type": "stream",
     "text": [
      "_________________________________________________________________\n",
      "Layer (type)                 Output Shape              Param #   \n",
      "=================================================================\n",
      "resnet50 (Model)             (None, 1, 4, 2048)        23587712  \n",
      "_________________________________________________________________\n",
      "dropout_1 (Dropout)          (None, 1, 4, 2048)        0         \n",
      "_________________________________________________________________\n",
      "flatten_1 (Flatten)          (None, 8192)              0         \n",
      "_________________________________________________________________\n",
      "dense_1 (Dense)              (None, 1024)              8389632   \n",
      "_________________________________________________________________\n",
      "batch_normalization_1 (Batch (None, 1024)              4096      \n",
      "_________________________________________________________________\n",
      "activation_50 (Activation)   (None, 1024)              0         \n",
      "_________________________________________________________________\n",
      "dropout_2 (Dropout)          (None, 1024)              0         \n",
      "_________________________________________________________________\n",
      "dense_2 (Dense)              (None, 8)                 8200      \n",
      "=================================================================\n",
      "Total params: 31,989,640\n",
      "Trainable params: 11,815,432\n",
      "Non-trainable params: 20,174,208\n",
      "_________________________________________________________________\n"
     ]
    }
   ],
   "source": [
    "convmodel = load_model('resnet50model.h5')\n",
    "convmodel.summary()"
   ]
  },
  {
   "cell_type": "code",
   "execution_count": 64,
   "metadata": {},
   "outputs": [],
   "source": [
    "# step size of 49 to fit 1372 images\n",
    "predictions = convmodel.model.predict_generator(test_generator,steps=49, max_queue_size=1, workers=1, use_multiprocessing=False)"
   ]
  },
  {
   "cell_type": "code",
   "execution_count": 204,
   "metadata": {},
   "outputs": [
    {
     "data": {
      "text/plain": [
       "\"A_Hard_Day_s_Night/A_Hard_Day's_Night\""
      ]
     },
     "execution_count": 204,
     "metadata": {},
     "output_type": "execute_result"
    }
   ],
   "source": [
    "\"/\".join(test_generator.filenames[0].split('/')[:-1])"
   ]
  },
  {
   "cell_type": "code",
   "execution_count": 205,
   "metadata": {},
   "outputs": [
    {
     "name": "stdout",
     "output_type": "stream",
     "text": [
      "(1372, 11)\n"
     ]
    }
   ],
   "source": [
    "df = pd.DataFrame(predictions)\n",
    "df['filename'] = test_generator.filenames\n",
    "df['filename'] = df.filename.map(lambda x: \"/\".join(x.split('/')[:-1]))\n",
    "df['album_name'] = df['filename'].map(lambda x: x.split('/')[0])\n",
    "df['song_name'] = df['filename'].map(lambda x: x.split('/')[1])\n",
    "print(df.shape)"
   ]
  },
  {
   "cell_type": "code",
   "execution_count": 206,
   "metadata": {},
   "outputs": [
    {
     "data": {
      "text/html": [
       "<div>\n",
       "<style>\n",
       "    .dataframe thead tr:only-child th {\n",
       "        text-align: right;\n",
       "    }\n",
       "\n",
       "    .dataframe thead th {\n",
       "        text-align: left;\n",
       "    }\n",
       "\n",
       "    .dataframe tbody tr th {\n",
       "        vertical-align: top;\n",
       "    }\n",
       "</style>\n",
       "<table border=\"1\" class=\"dataframe\">\n",
       "  <thead>\n",
       "    <tr style=\"text-align: right;\">\n",
       "      <th></th>\n",
       "      <th>0</th>\n",
       "      <th>1</th>\n",
       "      <th>2</th>\n",
       "      <th>3</th>\n",
       "      <th>4</th>\n",
       "      <th>5</th>\n",
       "      <th>6</th>\n",
       "      <th>7</th>\n",
       "      <th>filename</th>\n",
       "      <th>album_name</th>\n",
       "      <th>song_name</th>\n",
       "    </tr>\n",
       "  </thead>\n",
       "  <tbody>\n",
       "    <tr>\n",
       "      <th>0</th>\n",
       "      <td>0.003837</td>\n",
       "      <td>0.049923</td>\n",
       "      <td>0.013941</td>\n",
       "      <td>0.015356</td>\n",
       "      <td>1.712192e-03</td>\n",
       "      <td>0.137662</td>\n",
       "      <td>0.052743</td>\n",
       "      <td>0.724825</td>\n",
       "      <td>A_Hard_Day_s_Night/A_Hard_Day's_Night</td>\n",
       "      <td>A_Hard_Day_s_Night</td>\n",
       "      <td>A_Hard_Day's_Night</td>\n",
       "    </tr>\n",
       "    <tr>\n",
       "      <th>1</th>\n",
       "      <td>0.000349</td>\n",
       "      <td>0.003498</td>\n",
       "      <td>0.013912</td>\n",
       "      <td>0.007742</td>\n",
       "      <td>4.618992e-05</td>\n",
       "      <td>0.428965</td>\n",
       "      <td>0.024550</td>\n",
       "      <td>0.520938</td>\n",
       "      <td>A_Hard_Day_s_Night/A_Hard_Day's_Night</td>\n",
       "      <td>A_Hard_Day_s_Night</td>\n",
       "      <td>A_Hard_Day's_Night</td>\n",
       "    </tr>\n",
       "    <tr>\n",
       "      <th>2</th>\n",
       "      <td>0.000089</td>\n",
       "      <td>0.003549</td>\n",
       "      <td>0.001159</td>\n",
       "      <td>0.869733</td>\n",
       "      <td>5.425999e-07</td>\n",
       "      <td>0.093083</td>\n",
       "      <td>0.015772</td>\n",
       "      <td>0.016614</td>\n",
       "      <td>A_Hard_Day_s_Night/A_Hard_Day's_Night</td>\n",
       "      <td>A_Hard_Day_s_Night</td>\n",
       "      <td>A_Hard_Day's_Night</td>\n",
       "    </tr>\n",
       "    <tr>\n",
       "      <th>3</th>\n",
       "      <td>0.000186</td>\n",
       "      <td>0.002440</td>\n",
       "      <td>0.003561</td>\n",
       "      <td>0.018293</td>\n",
       "      <td>4.140206e-05</td>\n",
       "      <td>0.885389</td>\n",
       "      <td>0.060334</td>\n",
       "      <td>0.029757</td>\n",
       "      <td>A_Hard_Day_s_Night/A_Hard_Day's_Night</td>\n",
       "      <td>A_Hard_Day_s_Night</td>\n",
       "      <td>A_Hard_Day's_Night</td>\n",
       "    </tr>\n",
       "    <tr>\n",
       "      <th>4</th>\n",
       "      <td>0.089528</td>\n",
       "      <td>0.045254</td>\n",
       "      <td>0.132290</td>\n",
       "      <td>0.144059</td>\n",
       "      <td>1.725151e-02</td>\n",
       "      <td>0.227240</td>\n",
       "      <td>0.146206</td>\n",
       "      <td>0.198172</td>\n",
       "      <td>A_Hard_Day_s_Night/A_Hard_Day's_Night</td>\n",
       "      <td>A_Hard_Day_s_Night</td>\n",
       "      <td>A_Hard_Day's_Night</td>\n",
       "    </tr>\n",
       "  </tbody>\n",
       "</table>\n",
       "</div>"
      ],
      "text/plain": [
       "          0         1         2         3             4         5         6  \\\n",
       "0  0.003837  0.049923  0.013941  0.015356  1.712192e-03  0.137662  0.052743   \n",
       "1  0.000349  0.003498  0.013912  0.007742  4.618992e-05  0.428965  0.024550   \n",
       "2  0.000089  0.003549  0.001159  0.869733  5.425999e-07  0.093083  0.015772   \n",
       "3  0.000186  0.002440  0.003561  0.018293  4.140206e-05  0.885389  0.060334   \n",
       "4  0.089528  0.045254  0.132290  0.144059  1.725151e-02  0.227240  0.146206   \n",
       "\n",
       "          7                               filename          album_name  \\\n",
       "0  0.724825  A_Hard_Day_s_Night/A_Hard_Day's_Night  A_Hard_Day_s_Night   \n",
       "1  0.520938  A_Hard_Day_s_Night/A_Hard_Day's_Night  A_Hard_Day_s_Night   \n",
       "2  0.016614  A_Hard_Day_s_Night/A_Hard_Day's_Night  A_Hard_Day_s_Night   \n",
       "3  0.029757  A_Hard_Day_s_Night/A_Hard_Day's_Night  A_Hard_Day_s_Night   \n",
       "4  0.198172  A_Hard_Day_s_Night/A_Hard_Day's_Night  A_Hard_Day_s_Night   \n",
       "\n",
       "            song_name  \n",
       "0  A_Hard_Day's_Night  \n",
       "1  A_Hard_Day's_Night  \n",
       "2  A_Hard_Day's_Night  \n",
       "3  A_Hard_Day's_Night  \n",
       "4  A_Hard_Day's_Night  "
      ]
     },
     "execution_count": 206,
     "metadata": {},
     "output_type": "execute_result"
    }
   ],
   "source": [
    "df.head()"
   ]
  },
  {
   "cell_type": "code",
   "execution_count": 265,
   "metadata": {
    "collapsed": true
   },
   "outputs": [],
   "source": [
    "with open('beatles.pickle', 'wb') as handle:\n",
    "    pickle.dump(df, handle, protocol=pickle.HIGHEST_PROTOCOL)"
   ]
  },
  {
   "cell_type": "code",
   "execution_count": 242,
   "metadata": {},
   "outputs": [
    {
     "name": "stdout",
     "output_type": "stream",
     "text": [
      "(212, 8)\n"
     ]
    },
    {
     "data": {
      "text/html": [
       "<div>\n",
       "<style>\n",
       "    .dataframe thead tr:only-child th {\n",
       "        text-align: right;\n",
       "    }\n",
       "\n",
       "    .dataframe thead th {\n",
       "        text-align: left;\n",
       "    }\n",
       "\n",
       "    .dataframe tbody tr th {\n",
       "        vertical-align: top;\n",
       "    }\n",
       "</style>\n",
       "<table border=\"1\" class=\"dataframe\">\n",
       "  <thead>\n",
       "    <tr style=\"text-align: right;\">\n",
       "      <th></th>\n",
       "      <th>0</th>\n",
       "      <th>1</th>\n",
       "      <th>2</th>\n",
       "      <th>3</th>\n",
       "      <th>4</th>\n",
       "      <th>5</th>\n",
       "      <th>6</th>\n",
       "      <th>7</th>\n",
       "    </tr>\n",
       "    <tr>\n",
       "      <th>filename</th>\n",
       "      <th></th>\n",
       "      <th></th>\n",
       "      <th></th>\n",
       "      <th></th>\n",
       "      <th></th>\n",
       "      <th></th>\n",
       "      <th></th>\n",
       "      <th></th>\n",
       "    </tr>\n",
       "  </thead>\n",
       "  <tbody>\n",
       "    <tr>\n",
       "      <th>A_Hard_Day_s_Night/A_Hard_Day's_Night</th>\n",
       "      <td>0.015675</td>\n",
       "      <td>0.038802</td>\n",
       "      <td>0.029701</td>\n",
       "      <td>0.176021</td>\n",
       "      <td>0.003180</td>\n",
       "      <td>0.344165</td>\n",
       "      <td>0.070785</td>\n",
       "      <td>0.321670</td>\n",
       "    </tr>\n",
       "    <tr>\n",
       "      <th>A_Hard_Day_s_Night/And_I_Love_Her</th>\n",
       "      <td>0.001432</td>\n",
       "      <td>0.023466</td>\n",
       "      <td>0.031076</td>\n",
       "      <td>0.001793</td>\n",
       "      <td>0.000527</td>\n",
       "      <td>0.501843</td>\n",
       "      <td>0.062176</td>\n",
       "      <td>0.377686</td>\n",
       "    </tr>\n",
       "    <tr>\n",
       "      <th>A_Hard_Day_s_Night/Any_Time_At_All</th>\n",
       "      <td>0.001860</td>\n",
       "      <td>0.096625</td>\n",
       "      <td>0.207092</td>\n",
       "      <td>0.019844</td>\n",
       "      <td>0.002416</td>\n",
       "      <td>0.499649</td>\n",
       "      <td>0.140668</td>\n",
       "      <td>0.031846</td>\n",
       "    </tr>\n",
       "    <tr>\n",
       "      <th>A_Hard_Day_s_Night/Can't_Buy_Me_Love</th>\n",
       "      <td>0.000625</td>\n",
       "      <td>0.037014</td>\n",
       "      <td>0.045759</td>\n",
       "      <td>0.000130</td>\n",
       "      <td>0.000252</td>\n",
       "      <td>0.683018</td>\n",
       "      <td>0.173206</td>\n",
       "      <td>0.059996</td>\n",
       "    </tr>\n",
       "    <tr>\n",
       "      <th>A_Hard_Day_s_Night/I'll_Be_Back</th>\n",
       "      <td>0.000447</td>\n",
       "      <td>0.031280</td>\n",
       "      <td>0.175842</td>\n",
       "      <td>0.025778</td>\n",
       "      <td>0.001522</td>\n",
       "      <td>0.497182</td>\n",
       "      <td>0.175836</td>\n",
       "      <td>0.092115</td>\n",
       "    </tr>\n",
       "  </tbody>\n",
       "</table>\n",
       "</div>"
      ],
      "text/plain": [
       "                                              0         1         2         3  \\\n",
       "filename                                                                        \n",
       "A_Hard_Day_s_Night/A_Hard_Day's_Night  0.015675  0.038802  0.029701  0.176021   \n",
       "A_Hard_Day_s_Night/And_I_Love_Her      0.001432  0.023466  0.031076  0.001793   \n",
       "A_Hard_Day_s_Night/Any_Time_At_All     0.001860  0.096625  0.207092  0.019844   \n",
       "A_Hard_Day_s_Night/Can't_Buy_Me_Love   0.000625  0.037014  0.045759  0.000130   \n",
       "A_Hard_Day_s_Night/I'll_Be_Back        0.000447  0.031280  0.175842  0.025778   \n",
       "\n",
       "                                              4         5         6         7  \n",
       "filename                                                                       \n",
       "A_Hard_Day_s_Night/A_Hard_Day's_Night  0.003180  0.344165  0.070785  0.321670  \n",
       "A_Hard_Day_s_Night/And_I_Love_Her      0.000527  0.501843  0.062176  0.377686  \n",
       "A_Hard_Day_s_Night/Any_Time_At_All     0.002416  0.499649  0.140668  0.031846  \n",
       "A_Hard_Day_s_Night/Can't_Buy_Me_Love   0.000252  0.683018  0.173206  0.059996  \n",
       "A_Hard_Day_s_Night/I'll_Be_Back        0.001522  0.497182  0.175836  0.092115  "
      ]
     },
     "execution_count": 242,
     "metadata": {},
     "output_type": "execute_result"
    }
   ],
   "source": [
    "recdf = df.groupby('filename').mean()\n",
    "print(recdf.shape)\n",
    "recdf.head()"
   ]
  },
  {
   "cell_type": "markdown",
   "metadata": {},
   "source": [
    "Very nice. Now I have the dataframe that tells me my score for every beatles song. Let me make a copy of that to find the closest songs to each other"
   ]
  },
  {
   "cell_type": "code",
   "execution_count": 240,
   "metadata": {},
   "outputs": [
    {
     "data": {
      "text/html": [
       "<div>\n",
       "<style>\n",
       "    .dataframe thead tr:only-child th {\n",
       "        text-align: right;\n",
       "    }\n",
       "\n",
       "    .dataframe thead th {\n",
       "        text-align: left;\n",
       "    }\n",
       "\n",
       "    .dataframe tbody tr th {\n",
       "        vertical-align: top;\n",
       "    }\n",
       "</style>\n",
       "<table border=\"1\" class=\"dataframe\">\n",
       "  <thead>\n",
       "    <tr style=\"text-align: right;\">\n",
       "      <th></th>\n",
       "      <th>0</th>\n",
       "      <th>1</th>\n",
       "      <th>2</th>\n",
       "      <th>3</th>\n",
       "      <th>4</th>\n",
       "      <th>5</th>\n",
       "      <th>6</th>\n",
       "      <th>7</th>\n",
       "    </tr>\n",
       "  </thead>\n",
       "  <tbody>\n",
       "    <tr>\n",
       "      <th>A_Hard_Day's_Night</th>\n",
       "      <td>0.015675</td>\n",
       "      <td>0.038802</td>\n",
       "      <td>0.029701</td>\n",
       "      <td>0.176021</td>\n",
       "      <td>0.003180</td>\n",
       "      <td>0.344165</td>\n",
       "      <td>0.070785</td>\n",
       "      <td>0.321670</td>\n",
       "    </tr>\n",
       "    <tr>\n",
       "      <th>And_I_Love_Her</th>\n",
       "      <td>0.001432</td>\n",
       "      <td>0.023466</td>\n",
       "      <td>0.031076</td>\n",
       "      <td>0.001793</td>\n",
       "      <td>0.000527</td>\n",
       "      <td>0.501843</td>\n",
       "      <td>0.062176</td>\n",
       "      <td>0.377686</td>\n",
       "    </tr>\n",
       "    <tr>\n",
       "      <th>Any_Time_At_All</th>\n",
       "      <td>0.001860</td>\n",
       "      <td>0.096625</td>\n",
       "      <td>0.207092</td>\n",
       "      <td>0.019844</td>\n",
       "      <td>0.002416</td>\n",
       "      <td>0.499649</td>\n",
       "      <td>0.140668</td>\n",
       "      <td>0.031846</td>\n",
       "    </tr>\n",
       "    <tr>\n",
       "      <th>Can't_Buy_Me_Love</th>\n",
       "      <td>0.000625</td>\n",
       "      <td>0.037014</td>\n",
       "      <td>0.045759</td>\n",
       "      <td>0.000130</td>\n",
       "      <td>0.000252</td>\n",
       "      <td>0.683018</td>\n",
       "      <td>0.173206</td>\n",
       "      <td>0.059996</td>\n",
       "    </tr>\n",
       "    <tr>\n",
       "      <th>I'll_Be_Back</th>\n",
       "      <td>0.000447</td>\n",
       "      <td>0.031280</td>\n",
       "      <td>0.175842</td>\n",
       "      <td>0.025778</td>\n",
       "      <td>0.001522</td>\n",
       "      <td>0.497182</td>\n",
       "      <td>0.175836</td>\n",
       "      <td>0.092115</td>\n",
       "    </tr>\n",
       "  </tbody>\n",
       "</table>\n",
       "</div>"
      ],
      "text/plain": [
       "                           0         1         2         3         4  \\\n",
       "A_Hard_Day's_Night  0.015675  0.038802  0.029701  0.176021  0.003180   \n",
       "And_I_Love_Her      0.001432  0.023466  0.031076  0.001793  0.000527   \n",
       "Any_Time_At_All     0.001860  0.096625  0.207092  0.019844  0.002416   \n",
       "Can't_Buy_Me_Love   0.000625  0.037014  0.045759  0.000130  0.000252   \n",
       "I'll_Be_Back        0.000447  0.031280  0.175842  0.025778  0.001522   \n",
       "\n",
       "                           5         6         7  \n",
       "A_Hard_Day's_Night  0.344165  0.070785  0.321670  \n",
       "And_I_Love_Her      0.501843  0.062176  0.377686  \n",
       "Any_Time_At_All     0.499649  0.140668  0.031846  \n",
       "Can't_Buy_Me_Love   0.683018  0.173206  0.059996  \n",
       "I'll_Be_Back        0.497182  0.175836  0.092115  "
      ]
     },
     "execution_count": 240,
     "metadata": {},
     "output_type": "execute_result"
    }
   ],
   "source": [
    "recdfeuclid = recdf.copy()\n",
    "recdfeuclid.index = [x.split('/')[1] for x in recdfeuclid.index.values]\n",
    "recdfeuclid.head()"
   ]
  },
  {
   "cell_type": "markdown",
   "metadata": {},
   "source": [
    "With this function below, I found the closest neighbours to any song that is specified, and "
   ]
  },
  {
   "cell_type": "code",
   "execution_count": 256,
   "metadata": {},
   "outputs": [
    {
     "name": "stdout",
     "output_type": "stream",
     "text": [
      "The 20 closest tracks to A Hard Day's Night is:\n",
      "\n",
      "[('Nowhere_Man', 0.003638011804468988),\n",
      " (\"I'll_Follow_The_Sun\", 0.028758584413481003),\n",
      " (\"Baby_It's_You\", 0.029567901755058301),\n",
      " ('Get_Back', 0.032045870306774304),\n",
      " ('If_I_Needed_Someone', 0.032071151341369841),\n",
      " ('Strawberry_Fields_Forever', 0.03237347614049213),\n",
      " ('She_Came_In_Through_The_Bathroom_Window', 0.041557100916179479),\n",
      " ('Slow_Down', 0.043261941686978389),\n",
      " ('You_Never_Give_Me_Your_Money', 0.045129542779250187),\n",
      " (\"Don't_Let_Me_Down\", 0.04657285482971929),\n",
      " ('P.S._I_Love_You', 0.047582699834947562),\n",
      " ('Your_Mother_Should_Know', 0.047827463795329095),\n",
      " ('Blue_Jay_Way', 0.048820561780303251),\n",
      " ('Love_You_To', 0.048986601788328699),\n",
      " (\"I'm_Only_Sleeping\", 0.051808107856494701),\n",
      " (\"Honey_Don't\", 0.053818070183012878),\n",
      " ('I_Call_Your_Name', 0.054180807021566579),\n",
      " ('I_Need_You', 0.054755451878691019),\n",
      " (\"She's_Leaving_Home\", 0.055124233166594649)]\n"
     ]
    }
   ],
   "source": [
    "def similarityscore(song1,song2):\n",
    "    ''' similarity score between songs'''\n",
    "    np1 = np.array(song1)\n",
    "    np2 = np.array(song2)\n",
    "    difference = (np1 - np2)**2\n",
    "    \n",
    "    return sum(difference)\n",
    "\n",
    "\n",
    "\n",
    "def dynamicscore(song1):\n",
    "    ''' goes through dataframe to find closest songs'''\n",
    "    song1 = recdfeuclid.loc[song1]\n",
    "    errorlist = []\n",
    "    for i in range(recdfeuclid.shape[0]):\n",
    "        error = similarityscore(song1, recdfeuclid.iloc[i])\n",
    "        errorlist.append((recdfeuclid.index[i], error))\n",
    "    return errorlist\n",
    "    \n",
    "def closestsongs(name, length):\n",
    "    ''' making the list. length is the number of closes songs you want to display'''\n",
    "    elist = dynamicscore(name)\n",
    "    return sorted(elist, key=lambda tup: tup[1])[1:length]\n",
    "\n",
    "recommendedsongs = closestsongs(\"A_Hard_Day's_Night\",20)\n",
    "print(\"The 20 closest tracks to A Hard Day's Night is:\")\n",
    "print(\"\")\n",
    "pprint.pprint(recommendedsongs)\n"
   ]
  },
  {
   "cell_type": "markdown",
   "metadata": {},
   "source": [
    "I decided to use the [T-distributed Stochastic Neighbour Embedding](http://scikit-learn.org/stable/modules/generated/sklearn.manifold.TSNE.html) on sklearn to reduce the dimensionality of the data to 2D for visualisation for the distances between songs. I then used [plotly](https://plot.ly) to plot a scatter plot of the T-SNE results with hover text."
   ]
  },
  {
   "cell_type": "code",
   "execution_count": 214,
   "metadata": {},
   "outputs": [],
   "source": [
    "tsne = TSNE(n_components=2)\n",
    "recdf_embedded = tsne.fit_transform(recdf.values)\n",
    "recdf_embedded = pd.DataFrame(recdf_embedded)\n",
    "recdf_embedded['filename'] = recdf.index\n",
    "recdf_embedded['album_name'] = recdf_embedded['filename'].map(lambda x: x.split('/')[0])\n",
    "recdf_embedded['song_name'] = recdf_embedded['filename'].map(lambda x: x.split('/')[1])\n",
    "recdf_embedded = recdf_embedded.rename(columns={0:'0',1:'1'})"
   ]
  },
  {
   "cell_type": "code",
   "execution_count": 215,
   "metadata": {},
   "outputs": [
    {
     "data": {
      "text/html": [
       "<div>\n",
       "<style>\n",
       "    .dataframe thead tr:only-child th {\n",
       "        text-align: right;\n",
       "    }\n",
       "\n",
       "    .dataframe thead th {\n",
       "        text-align: left;\n",
       "    }\n",
       "\n",
       "    .dataframe tbody tr th {\n",
       "        vertical-align: top;\n",
       "    }\n",
       "</style>\n",
       "<table border=\"1\" class=\"dataframe\">\n",
       "  <thead>\n",
       "    <tr style=\"text-align: right;\">\n",
       "      <th></th>\n",
       "      <th>0</th>\n",
       "      <th>1</th>\n",
       "      <th>filename</th>\n",
       "      <th>album_name</th>\n",
       "      <th>song_name</th>\n",
       "    </tr>\n",
       "  </thead>\n",
       "  <tbody>\n",
       "    <tr>\n",
       "      <th>0</th>\n",
       "      <td>2.794863</td>\n",
       "      <td>5.215832</td>\n",
       "      <td>A_Hard_Day_s_Night/A_Hard_Day's_Night</td>\n",
       "      <td>A_Hard_Day_s_Night</td>\n",
       "      <td>A_Hard_Day's_Night</td>\n",
       "    </tr>\n",
       "    <tr>\n",
       "      <th>1</th>\n",
       "      <td>3.753482</td>\n",
       "      <td>7.242250</td>\n",
       "      <td>A_Hard_Day_s_Night/And_I_Love_Her</td>\n",
       "      <td>A_Hard_Day_s_Night</td>\n",
       "      <td>And_I_Love_Her</td>\n",
       "    </tr>\n",
       "    <tr>\n",
       "      <th>2</th>\n",
       "      <td>9.012121</td>\n",
       "      <td>3.651296</td>\n",
       "      <td>A_Hard_Day_s_Night/Any_Time_At_All</td>\n",
       "      <td>A_Hard_Day_s_Night</td>\n",
       "      <td>Any_Time_At_All</td>\n",
       "    </tr>\n",
       "    <tr>\n",
       "      <th>3</th>\n",
       "      <td>8.331081</td>\n",
       "      <td>5.949312</td>\n",
       "      <td>A_Hard_Day_s_Night/Can't_Buy_Me_Love</td>\n",
       "      <td>A_Hard_Day_s_Night</td>\n",
       "      <td>Can't_Buy_Me_Love</td>\n",
       "    </tr>\n",
       "    <tr>\n",
       "      <th>4</th>\n",
       "      <td>8.558709</td>\n",
       "      <td>4.099196</td>\n",
       "      <td>A_Hard_Day_s_Night/I'll_Be_Back</td>\n",
       "      <td>A_Hard_Day_s_Night</td>\n",
       "      <td>I'll_Be_Back</td>\n",
       "    </tr>\n",
       "  </tbody>\n",
       "</table>\n",
       "</div>"
      ],
      "text/plain": [
       "          0         1                               filename  \\\n",
       "0  2.794863  5.215832  A_Hard_Day_s_Night/A_Hard_Day's_Night   \n",
       "1  3.753482  7.242250      A_Hard_Day_s_Night/And_I_Love_Her   \n",
       "2  9.012121  3.651296     A_Hard_Day_s_Night/Any_Time_At_All   \n",
       "3  8.331081  5.949312   A_Hard_Day_s_Night/Can't_Buy_Me_Love   \n",
       "4  8.558709  4.099196        A_Hard_Day_s_Night/I'll_Be_Back   \n",
       "\n",
       "           album_name           song_name  \n",
       "0  A_Hard_Day_s_Night  A_Hard_Day's_Night  \n",
       "1  A_Hard_Day_s_Night      And_I_Love_Her  \n",
       "2  A_Hard_Day_s_Night     Any_Time_At_All  \n",
       "3  A_Hard_Day_s_Night   Can't_Buy_Me_Love  \n",
       "4  A_Hard_Day_s_Night        I'll_Be_Back  "
      ]
     },
     "execution_count": 215,
     "metadata": {},
     "output_type": "execute_result"
    }
   ],
   "source": [
    "recdf_embedded.head()"
   ]
  },
  {
   "cell_type": "code",
   "execution_count": 216,
   "metadata": {},
   "outputs": [
    {
     "data": {
      "text/plain": [
       "'Please_Please_Me'"
      ]
     },
     "execution_count": 216,
     "metadata": {},
     "output_type": "execute_result"
    }
   ],
   "source": [
    "recdf_embedded['album_name'].unique()[8]"
   ]
  },
  {
   "cell_type": "code",
   "execution_count": 221,
   "metadata": {
    "collapsed": true
   },
   "outputs": [],
   "source": [
    "# Sorted the albums in chronological order\n",
    "chronological_albums = [recdf_embedded['album_name'].unique()[8],\n",
    "                                  recdf_embedded['album_name'].unique()[0],\n",
    "                                  recdf_embedded['album_name'].unique()[2],\n",
    "                                  recdf_embedded['album_name'].unique()[3],\n",
    "                                  recdf_embedded['album_name'].unique()[10],\n",
    "                                  recdf_embedded['album_name'].unique()[9],\n",
    "                                  recdf_embedded['album_name'].unique()[11],\n",
    "                                  recdf_embedded['album_name'].unique()[5],\n",
    "                                  recdf_embedded['album_name'].unique()[12],\n",
    "                                  recdf_embedded['album_name'].unique()[13],\n",
    "                                  recdf_embedded['album_name'].unique()[14],\n",
    "                                  recdf_embedded['album_name'].unique()[1],\n",
    "                                  recdf_embedded['album_name'].unique()[4],\n",
    "                                  recdf_embedded['album_name'].unique()[6],\n",
    "                                  recdf_embedded['album_name'].unique()[7]]"
   ]
  },
  {
   "cell_type": "code",
   "execution_count": 222,
   "metadata": {},
   "outputs": [
    {
     "name": "stdout",
     "output_type": "stream",
     "text": [
      "['Please_Please_Me', 'A_Hard_Day_s_Night', 'Beatles_For_Sale', 'Help!', 'Rubber_Soul', 'Revolver', 'Sgt_Peppers_Lonely_Hearts_Club_Band', 'Magical_Mystery_Tour', 'The_Beatles_[White_Album]_CD1', 'The_Beatles_[White_Album]_CD2', 'Yellow_Submarine', 'Abbey_Road', 'Let_It_Be', 'Past_Masters_I', 'Past_Masters_II']\n"
     ]
    }
   ],
   "source": [
    "print(chronological_albums)"
   ]
  },
  {
   "cell_type": "code",
   "execution_count": 264,
   "metadata": {},
   "outputs": [
    {
     "name": "stdout",
     "output_type": "stream",
     "text": [
      "['hsl(0,100%,10.0%)', 'hsl(0,100%,16.42857142857143%)', 'hsl(0,100%,22.857142857142858%)', 'hsl(0,100%,29.285714285714285%)', 'hsl(0,100%,35.714285714285715%)', 'hsl(0,100%,42.142857142857146%)', 'hsl(0,100%,48.57142857142857%)', 'hsl(0,100%,55.0%)', 'hsl(0,100%,61.42857142857143%)', 'hsl(0,100%,67.85714285714286%)', 'hsl(0,100%,74.28571428571429%)', 'hsl(0,100%,80.71428571428572%)', 'hsl(0,100%,87.14285714285714%)', 'hsl(0,100%,93.57142857142857%)', 'hsl(0,100%,100.0%)']\n"
     ]
    }
   ],
   "source": [
    "N = recdf_embedded.nunique()[3]\n",
    "c= ['hsl(0,100%,{}%)'.format(h) for h in np.linspace(10, 100, N)] #colour coding for the plot\n",
    "print(c)"
   ]
  },
  {
   "cell_type": "code",
   "execution_count": 269,
   "metadata": {},
   "outputs": [
    {
     "data": {
      "text/html": [
       "<script>requirejs.config({paths: { 'plotly': ['https://cdn.plot.ly/plotly-latest.min']},});if(!window.Plotly) {{require(['plotly'],function(plotly) {window.Plotly=plotly;});}}</script>"
      ],
      "text/vnd.plotly.v1+html": [
       "<script>requirejs.config({paths: { 'plotly': ['https://cdn.plot.ly/plotly-latest.min']},});if(!window.Plotly) {{require(['plotly'],function(plotly) {window.Plotly=plotly;});}}</script>"
      ]
     },
     "metadata": {},
     "output_type": "display_data"
    }
   ],
   "source": [
    "init_notebook_mode(connected=True)"
   ]
  },
  {
   "cell_type": "code",
   "execution_count": 270,
   "metadata": {},
   "outputs": [
    {
     "data": {
      "text/html": [
       "<iframe id=\"igraph\" scrolling=\"no\" style=\"border:none;\" seamless=\"seamless\" src=\"https://plot.ly/~melvinperera/2.embed\" height=\"525px\" width=\"100%\"></iframe>"
      ],
      "text/plain": [
       "<plotly.tools.PlotlyDisplay object>"
      ]
     },
     "execution_count": 270,
     "metadata": {},
     "output_type": "execute_result"
    }
   ],
   "source": [
    "def tracer(colour,albumname):\n",
    "    ''' Uses plotly to plot the interactive chart'''\n",
    "    tracer = go.Scattergl(\n",
    "    x = recdf_embedded.loc[recdf_embedded['album_name']==albumname,'0'],\n",
    "    y = recdf_embedded.loc[recdf_embedded['album_name']==albumname,'1'],\n",
    "    name = albumname,\n",
    "    mode = 'markers',\n",
    "    marker = dict(\n",
    "        size = 10,\n",
    "        color = colour,\n",
    "        line = dict(\n",
    "            width = 2,\n",
    "            color = 'rgb(0, 0, 0)'\n",
    "        )\n",
    "    ), text=recdf_embedded.loc[recdf_embedded['album_name']==albumname,'song_name']\n",
    "    )\n",
    "    return tracer\n",
    "\n",
    "data = [tracer(c[ind],albumname) for ind,albumname in enumerate(chronological_albums)]\n",
    "\n",
    "\n",
    "\n",
    "layout = dict(title = 'A Visualisation of Songs by The Beatles',\n",
    "              yaxis = dict(zeroline = False),\n",
    "              xaxis = dict(zeroline = False)\n",
    "             )\n",
    "\n",
    "fig = dict(data=data, layout=layout)\n",
    "py.iplot(fig, filename='beatles_viz')"
   ]
  },
  {
   "cell_type": "markdown",
   "metadata": {},
   "source": [
    "The results are pretty similar to the euclidian recommendation."
   ]
  },
  {
   "cell_type": "markdown",
   "metadata": {},
   "source": [
    "[link to visualisation](https://plot.ly/~melvinperera/2)"
   ]
  },
  {
   "cell_type": "code",
   "execution_count": null,
   "metadata": {
    "collapsed": true
   },
   "outputs": [],
   "source": []
  }
 ],
 "metadata": {
  "kernelspec": {
   "display_name": "Python 3",
   "language": "python",
   "name": "python3"
  }
 },
 "nbformat": 4,
 "nbformat_minor": 2
}
