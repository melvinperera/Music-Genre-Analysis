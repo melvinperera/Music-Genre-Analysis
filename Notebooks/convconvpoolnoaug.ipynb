{
 "cells": [
  {
   "cell_type": "markdown",
   "metadata": {},
   "source": [
    "### ConvConvPool with no data augmentation\n",
    "\n",
    "In this notebook I decided to train the model on an architecture with 2 convolutional layers, followed by a Batch-Norm layer and a pooling layer. This would improve the granularity of the features detected by the convolutional network and help to identify more fine features in the spectrogram."
   ]
  },
  {
   "cell_type": "code",
   "execution_count": 1,
   "metadata": {
    "collapsed": true
   },
   "outputs": [],
   "source": [
    "import matplotlib.pyplot as plt\n",
    "import pickle"
   ]
  },
  {
   "cell_type": "code",
   "execution_count": 1,
   "metadata": {},
   "outputs": [
    {
     "name": "stderr",
     "output_type": "stream",
     "text": [
      "Using TensorFlow backend.\n"
     ]
    },
    {
     "name": "stdout",
     "output_type": "stream",
     "text": [
      "Found 6394 images belonging to 8 classes.\n",
      "Found 800 images belonging to 8 classes.\n",
      "Found 800 images belonging to 8 classes.\n",
      "data batch shape: (20, 128, 1024, 3)\n",
      "labels batch shape: (20, 8)\n",
      "_________________________________________________________________\n",
      "Layer (type)                 Output Shape              Param #   \n",
      "=================================================================\n",
      "conv2d_1 (Conv2D)            (None, 64, 512, 32)       416       \n",
      "_________________________________________________________________\n",
      "conv2d_2 (Conv2D)            (None, 32, 256, 32)       4128      \n",
      "_________________________________________________________________\n",
      "batch_normalization_1 (Batch (None, 32, 256, 32)       128       \n",
      "_________________________________________________________________\n",
      "max_pooling2d_1 (MaxPooling2 (None, 16, 128, 32)       0         \n",
      "_________________________________________________________________\n",
      "conv2d_3 (Conv2D)            (None, 15, 127, 64)       8256      \n",
      "_________________________________________________________________\n",
      "conv2d_4 (Conv2D)            (None, 14, 126, 64)       16448     \n",
      "_________________________________________________________________\n",
      "batch_normalization_2 (Batch (None, 14, 126, 64)       256       \n",
      "_________________________________________________________________\n",
      "max_pooling2d_2 (MaxPooling2 (None, 7, 63, 64)         0         \n",
      "_________________________________________________________________\n",
      "dropout_1 (Dropout)          (None, 7, 63, 64)         0         \n",
      "_________________________________________________________________\n",
      "flatten_1 (Flatten)          (None, 28224)             0         \n",
      "_________________________________________________________________\n",
      "dense_1 (Dense)              (None, 1024)              28902400  \n",
      "_________________________________________________________________\n",
      "batch_normalization_3 (Batch (None, 1024)              4096      \n",
      "_________________________________________________________________\n",
      "activation_1 (Activation)    (None, 1024)              0         \n",
      "_________________________________________________________________\n",
      "dropout_2 (Dropout)          (None, 1024)              0         \n",
      "_________________________________________________________________\n",
      "dense_2 (Dense)              (None, 8)                 8200      \n",
      "=================================================================\n",
      "Total params: 28,944,328\n",
      "Trainable params: 28,942,088\n",
      "Non-trainable params: 2,240\n",
      "_________________________________________________________________\n",
      "None\n",
      "Training model:\n",
      "Epoch 1/20\n",
      "319/319 [==============================] - 36s - loss: 2.0127 - acc: 0.3392 - val_loss: 3.5185 - val_acc: 0.1713\n",
      "Epoch 2/20\n",
      "319/319 [==============================] - 33s - loss: 1.5718 - acc: 0.4676 - val_loss: 3.8660 - val_acc: 0.1588\n",
      "Epoch 3/20\n",
      "319/319 [==============================] - 33s - loss: 1.2579 - acc: 0.5609 - val_loss: 2.0942 - val_acc: 0.3600\n",
      "Epoch 4/20\n",
      "319/319 [==============================] - 33s - loss: 0.9537 - acc: 0.6663 - val_loss: 2.6799 - val_acc: 0.2838\n",
      "Epoch 5/20\n",
      "319/319 [==============================] - 33s - loss: 0.7155 - acc: 0.7544 - val_loss: 2.9743 - val_acc: 0.2663\n",
      "Epoch 6/20\n",
      "319/319 [==============================] - 33s - loss: 0.4785 - acc: 0.8362 - val_loss: 3.3171 - val_acc: 0.3125\n",
      "Epoch 7/20\n",
      "319/319 [==============================] - 33s - loss: 0.3797 - acc: 0.8679 - val_loss: 3.4736 - val_acc: 0.3163\n",
      "Epoch 8/20\n",
      "319/319 [==============================] - 33s - loss: 0.3015 - acc: 0.8994 - val_loss: 2.5575 - val_acc: 0.3763\n",
      "Epoch 9/20\n",
      "319/319 [==============================] - 33s - loss: 0.2597 - acc: 0.9093 - val_loss: 4.2439 - val_acc: 0.3738\n",
      "Epoch 10/20\n",
      "319/319 [==============================] - 33s - loss: 0.2460 - acc: 0.9155 - val_loss: 2.6601 - val_acc: 0.3875\n",
      "Epoch 11/20\n",
      "319/319 [==============================] - 33s - loss: 0.1905 - acc: 0.9344 - val_loss: 2.8617 - val_acc: 0.3325\n",
      "Epoch 12/20\n",
      "319/319 [==============================] - 32s - loss: 0.1838 - acc: 0.9392 - val_loss: 2.5791 - val_acc: 0.4663\n",
      "Epoch 13/20\n",
      "319/319 [==============================] - 32s - loss: 0.1936 - acc: 0.9344 - val_loss: 3.1101 - val_acc: 0.3613\n",
      "Epoch 14/20\n",
      "319/319 [==============================] - 33s - loss: 0.1802 - acc: 0.9393 - val_loss: 2.9986 - val_acc: 0.3988\n",
      "Epoch 15/20\n",
      "319/319 [==============================] - 32s - loss: 0.1560 - acc: 0.9496 - val_loss: 2.5937 - val_acc: 0.4050\n",
      "Epoch 16/20\n",
      "319/319 [==============================] - 32s - loss: 0.1619 - acc: 0.9454 - val_loss: 3.0381 - val_acc: 0.3800\n",
      "Epoch 17/20\n",
      "319/319 [==============================] - 33s - loss: 0.1379 - acc: 0.9524 - val_loss: 2.6240 - val_acc: 0.4288\n",
      "Epoch 18/20\n",
      "319/319 [==============================] - 32s - loss: 0.1262 - acc: 0.9598 - val_loss: 3.7759 - val_acc: 0.2925\n",
      "Epoch 19/20\n",
      "319/319 [==============================] - 32s - loss: 0.1398 - acc: 0.9542 - val_loss: 3.0145 - val_acc: 0.4263\n",
      "Epoch 20/20\n",
      "319/319 [==============================] - 32s - loss: 0.1317 - acc: 0.9569 - val_loss: 3.0867 - val_acc: 0.4313\n",
      "Training finished!\n",
      "Time taken: 667.7401497364044s\n"
     ]
    }
   ],
   "source": [
    "from convconvpool import Convtrain as conv\n",
    "from keras.preprocessing.image import ImageDataGenerator\n",
    "\n",
    "train_datagen = ImageDataGenerator(\n",
    "      rescale=1./255,\n",
    "      rotation_range=0.,\n",
    "      width_shift_range=0.,\n",
    "      height_shift_range=0.,\n",
    "      shear_range=0.,\n",
    "      zoom_range=0.,\n",
    "      horizontal_flip=False,\n",
    "      fill_mode='nearest')\n",
    "\n",
    "test_datagen = ImageDataGenerator(rescale=1./255)\n",
    "\n",
    "train_generator = train_datagen.flow_from_directory('dataset/', target_size = (128,1024), batch_size = 20, \n",
    "                                                    class_mode = 'categorical')\n",
    "\n",
    "validation_generator = test_datagen.flow_from_directory('validation/', target_size = (128,1024), batch_size =20,\n",
    "                                                       class_mode = 'categorical')\n",
    "test_generator = test_datagen.flow_from_directory('test/', target_size = (128,1024), batch_size = 20,\n",
    "                                                 class_mode = 'categorical')\n",
    "\n",
    "for data_batch, labels_batch in train_generator:\n",
    "    print('data batch shape:', data_batch.shape)\n",
    "    print('labels batch shape:', labels_batch.shape)\n",
    "    break\n",
    "\n",
    "Model = conv(input_shape=(128,1024,3))\n",
    "Model.compile()\n",
    "print(Model.model.summary())\n",
    "history = Model.fit_generator(train_generator, validation_generator, epochs=20)"
   ]
  },
  {
   "cell_type": "code",
   "execution_count": 2,
   "metadata": {
    "collapsed": true
   },
   "outputs": [],
   "source": [
    "a = history.history"
   ]
  },
  {
   "cell_type": "code",
   "execution_count": 5,
   "metadata": {},
   "outputs": [
    {
     "data": {
      "image/png": "[encoded data removed]",
      "text/plain": [
       "<matplotlib.figure.Figure at 0x7fa61e0ebef0>"
      ]
     },
     "metadata": {},
     "output_type": "display_data"
    },
    {
     "data": {
      "image/png": "[encoded data removed]",
      "text/plain": [
       "<matplotlib.figure.Figure at 0x7fa61e048518>"
      ]
     },
     "metadata": {},
     "output_type": "display_data"
    }
   ],
   "source": [
    "acc = a['acc']\n",
    "val_acc = a['val_acc']\n",
    "loss = a['loss']\n",
    "val_loss = a['val_loss']\n",
    "\n",
    "epochs = range(len(acc))\n",
    "\n",
    "plt.plot(epochs, acc, 'bo', label='Training acc')\n",
    "plt.plot(epochs, val_acc, 'b', label='Validation acc')\n",
    "plt.title('Training and validation accuracy')\n",
    "ax = plt.gca()\n",
    "ax.set_ylim(0,1)\n",
    "ax.set_xticks([0,2,4,6,8,10,12,14,16,18,20])\n",
    "plt.legend()\n",
    "\n",
    "plt.figure()\n",
    "\n",
    "plt.plot(epochs, loss, 'bo', label='Training loss')\n",
    "plt.plot(epochs, val_loss, 'b', label='Validation loss')\n",
    "plt.title('Training and validation loss')\n",
    "ax = plt.gca()\n",
    "ax.set_xticks([0,2,4,6,8,10,12,14,16,18,20])\n",
    "plt.legend()\n",
    "\n",
    "plt.show()\n"
   ]
  },
  {
   "cell_type": "markdown",
   "metadata": {
    "collapsed": true
   },
   "source": [
    "Although this model fits very quickly with no data augmentation on the training set, it still overfits with the training set against the validation set. Augmentation will help here."
   ]
  },
  {
   "cell_type": "code",
   "execution_count": null,
   "metadata": {
    "collapsed": true
   },
   "outputs": [],
   "source": []
  }
 ],
 "metadata": {
  "kernelspec": {
   "display_name": "Python 3",
   "language": "python",
   "name": "python3"
  },
  "language_info": {
   "codemirror_mode": {
    "name": "ipython",
    "version": 3
   },
   "file_extension": ".py",
   "mimetype": "text/x-python",
   "name": "python",
   "nbconvert_exporter": "python",
   "pygments_lexer": "ipython3",
   "version": "3.6.3"
  }
 },
 "nbformat": 4,
 "nbformat_minor": 2
}
