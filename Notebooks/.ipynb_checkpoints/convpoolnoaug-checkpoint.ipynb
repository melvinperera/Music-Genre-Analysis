{
 "cells": [
  {
   "cell_type": "markdown",
   "metadata": {
    "collapsed": true
   },
   "source": [
    "## Modelling Notebooks\n",
    "\n",
    "This is the first of the modelling notebooks.\n",
    "\n",
    "\n",
    "### Requirements\n",
    "\n",
    "---\n",
    "\n",
    "This is the general requirements for all the modelling notebooks.\n",
    "\n",
    "The convolutional models should be in the same directory as this notebook in order for this to work. The images should also be processed beforehand. See ```Initial loading of X and Y.ipynb``` for how I generated it.\n",
    "\n",
    "Required Files:\n",
    "```\n",
    "* Image files in the 'dataset' folder and 'validation' folder\n",
    "* convpool.py\n",
    "* convconvpool.py\n",
    "* resnet.py\n",
    "\n",
    "```\n",
    "\n",
    "Required Packages:\n",
    "```\n",
    "* sklearn\n",
    "* librosa\n",
    "* pandas\n",
    "* numpy\n",
    "* keras\n",
    "* matplotlib.pyplot\n",
    "\n",
    "```\n",
    "\n",
    "\n",
    "\n",
    "\n",
    "\n",
    "\n",
    "---\n",
    "\n",
    "<a id='cnn'></a>\n",
    "### Convolutional neural networks\n",
    "\n",
    "A thorough runthrough of convolutional neural networks and the theory behind it would be too dense to go through it here (And I would probably run out of space). Instead I will just do a brief summary and leave the rest up to the brilliant minds at [Stanford](http://cs231n.stanford.edu/) to explain in better detail.\n",
    "\n",
    "With a very high level overview: \n",
    "\n",
    ">Basically, the convolving filters are able to extract information from the spectrograms and convert these information into features for a classifier to work on. The classifier (which is a fully connected layer with a classification layer of 8 classes) would then map these features into 8 classes, namely the music genres of each audio file.\n",
    "\n",
    "---\n",
    "\n",
    "\n",
    "\n",
    "\n",
    "### Normal conv-pool architecture\n",
    " \n",
    "This notebook contains a simple model with just 4 convolutional-batchnorm-pool layers trained on 20 epochs.\n",
    "\n",
    "Notice that I increased the number of filters for every convolutional layer. This would extract more high level features, which would result in better granularity.\n",
    "\n",
    "I then attached a 1024-neuron fully connected layer and ended it off with a 8-neuron classification layer with a softmax activation to perform class predictions.\n",
    "\n"
   ]
  },
  {
   "cell_type": "code",
   "execution_count": 4,
   "metadata": {
    "collapsed": true
   },
   "outputs": [],
   "source": [
    "import matplotlib.pyplot as plt"
   ]
  },
  {
   "cell_type": "code",
   "execution_count": 1,
   "metadata": {},
   "outputs": [
    {
     "name": "stderr",
     "output_type": "stream",
     "text": [
      "Using TensorFlow backend.\n"
     ]
    },
    {
     "name": "stdout",
     "output_type": "stream",
     "text": [
      "Found 6394 images belonging to 8 classes.\n",
      "Found 800 images belonging to 8 classes.\n",
      "Found 800 images belonging to 8 classes.\n",
      "data batch shape: (20, 128, 1024, 3)\n",
      "labels batch shape: (20, 8)\n",
      "_________________________________________________________________\n",
      "Layer (type)                 Output Shape              Param #   \n",
      "=================================================================\n",
      "conv2d_1 (Conv2D)            (None, 63, 511, 32)       1568      \n",
      "_________________________________________________________________\n",
      "batch_normalization_1 (Batch (None, 63, 511, 32)       128       \n",
      "_________________________________________________________________\n",
      "max_pooling2d_1 (MaxPooling2 (None, 31, 255, 32)       0         \n",
      "_________________________________________________________________\n",
      "conv2d_2 (Conv2D)            (None, 15, 127, 32)       9248      \n",
      "_________________________________________________________________\n",
      "batch_normalization_2 (Batch (None, 15, 127, 32)       128       \n",
      "_________________________________________________________________\n",
      "max_pooling2d_2 (MaxPooling2 (None, 7, 63, 32)         0         \n",
      "_________________________________________________________________\n",
      "conv2d_3 (Conv2D)            (None, 6, 62, 64)         8256      \n",
      "_________________________________________________________________\n",
      "batch_normalization_3 (Batch (None, 6, 62, 64)         256       \n",
      "_________________________________________________________________\n",
      "max_pooling2d_3 (MaxPooling2 (None, 3, 31, 64)         0         \n",
      "_________________________________________________________________\n",
      "conv2d_4 (Conv2D)            (None, 2, 30, 128)        32896     \n",
      "_________________________________________________________________\n",
      "batch_normalization_4 (Batch (None, 2, 30, 128)        512       \n",
      "_________________________________________________________________\n",
      "max_pooling2d_4 (MaxPooling2 (None, 1, 15, 128)        0         \n",
      "_________________________________________________________________\n",
      "dropout_1 (Dropout)          (None, 1, 15, 128)        0         \n",
      "_________________________________________________________________\n",
      "flatten_1 (Flatten)          (None, 1920)              0         \n",
      "_________________________________________________________________\n",
      "dense_1 (Dense)              (None, 1024)              1967104   \n",
      "_________________________________________________________________\n",
      "batch_normalization_5 (Batch (None, 1024)              4096      \n",
      "_________________________________________________________________\n",
      "activation_1 (Activation)    (None, 1024)              0         \n",
      "_________________________________________________________________\n",
      "dropout_2 (Dropout)          (None, 1024)              0         \n",
      "_________________________________________________________________\n",
      "dense_2 (Dense)              (None, 8)                 8200      \n",
      "=================================================================\n",
      "Total params: 2,032,392\n",
      "Trainable params: 2,029,832\n",
      "Non-trainable params: 2,560\n",
      "_________________________________________________________________\n",
      "None\n",
      "Training model:\n",
      "Epoch 1/20\n",
      "319/319 [==============================] - 28s - loss: 2.1851 - acc: 0.2970 - val_loss: 3.4583 - val_acc: 0.1263\n",
      "Epoch 2/20\n",
      "319/319 [==============================] - 25s - loss: 1.7583 - acc: 0.3914 - val_loss: 2.8473 - val_acc: 0.1363\n",
      "Epoch 3/20\n",
      "319/319 [==============================] - 25s - loss: 1.6468 - acc: 0.4229 - val_loss: 3.0772 - val_acc: 0.2150\n",
      "Epoch 4/20\n",
      "319/319 [==============================] - 25s - loss: 1.5512 - acc: 0.4621 - val_loss: 3.6210 - val_acc: 0.2150\n",
      "Epoch 5/20\n",
      "319/319 [==============================] - 25s - loss: 1.4871 - acc: 0.4804 - val_loss: 3.1336 - val_acc: 0.1888\n",
      "Epoch 6/20\n",
      "319/319 [==============================] - 25s - loss: 1.4353 - acc: 0.5008 - val_loss: 4.3952 - val_acc: 0.1375\n",
      "Epoch 7/20\n",
      "319/319 [==============================] - 25s - loss: 1.3948 - acc: 0.5174 - val_loss: 2.3498 - val_acc: 0.3988\n",
      "Epoch 8/20\n",
      "319/319 [==============================] - 25s - loss: 1.3466 - acc: 0.5266 - val_loss: 4.0943 - val_acc: 0.1513\n",
      "Epoch 9/20\n",
      "319/319 [==============================] - 25s - loss: 1.2838 - acc: 0.5540 - val_loss: 3.5053 - val_acc: 0.1588\n",
      "Epoch 10/20\n",
      "319/319 [==============================] - 25s - loss: 1.2471 - acc: 0.5592 - val_loss: 2.9681 - val_acc: 0.3100\n",
      "Epoch 11/20\n",
      "319/319 [==============================] - 25s - loss: 1.2332 - acc: 0.5645 - val_loss: 2.5724 - val_acc: 0.2313\n",
      "Epoch 12/20\n",
      "319/319 [==============================] - 25s - loss: 1.1685 - acc: 0.5831 - val_loss: 3.7552 - val_acc: 0.2050\n",
      "Epoch 13/20\n",
      "319/319 [==============================] - 25s - loss: 1.1340 - acc: 0.5979 - val_loss: 3.6437 - val_acc: 0.1975\n",
      "Epoch 14/20\n",
      "319/319 [==============================] - 25s - loss: 1.0902 - acc: 0.6112 - val_loss: 3.7262 - val_acc: 0.2825\n",
      "Epoch 15/20\n",
      "319/319 [==============================] - 25s - loss: 1.0394 - acc: 0.6281 - val_loss: 2.2777 - val_acc: 0.2800\n",
      "Epoch 16/20\n",
      "319/319 [==============================] - 25s - loss: 0.9720 - acc: 0.6603 - val_loss: 2.2274 - val_acc: 0.3925\n",
      "Epoch 17/20\n",
      "319/319 [==============================] - 25s - loss: 0.9041 - acc: 0.6744 - val_loss: 2.4276 - val_acc: 0.3013\n",
      "Epoch 18/20\n",
      "319/319 [==============================] - 25s - loss: 0.8665 - acc: 0.6916 - val_loss: 2.2457 - val_acc: 0.4175\n",
      "Epoch 19/20\n",
      "319/319 [==============================] - 25s - loss: 0.7959 - acc: 0.7116 - val_loss: 2.3719 - val_acc: 0.3938\n",
      "Epoch 20/20\n",
      "319/319 [==============================] - 25s - loss: 0.7769 - acc: 0.7257 - val_loss: 3.0481 - val_acc: 0.2188\n",
      "Training finished!\n",
      "Time taken: 518.9613883495331s\n"
     ]
    }
   ],
   "source": [
    "from convpool import Convtrain as conv   # convolutional model\n",
    "from keras.preprocessing.image import ImageDataGenerator\n",
    "\n",
    "train_datagen = ImageDataGenerator(\n",
    "      rescale=1./255,\n",
    "      rotation_range=0.,\n",
    "      width_shift_range=0.,\n",
    "      height_shift_range=0.,\n",
    "      shear_range=0.,\n",
    "      zoom_range=0.,\n",
    "      horizontal_flip=False,\n",
    "      fill_mode='nearest')\n",
    "\n",
    "test_datagen = ImageDataGenerator(rescale=1./255)\n",
    "\n",
    "train_generator = train_datagen.flow_from_directory('dataset/', target_size = (128,1024), batch_size = 20, \n",
    "                                                    class_mode = 'categorical')\n",
    "\n",
    "validation_generator = test_datagen.flow_from_directory('validation/', target_size = (128,1024), batch_size =20,\n",
    "                                                       class_mode = 'categorical')\n",
    "test_generator = test_datagen.flow_from_directory('test/', target_size = (128,1024), batch_size = 20,\n",
    "                                                 class_mode = 'categorical')\n",
    "\n",
    "for data_batch, labels_batch in train_generator:\n",
    "    print('data batch shape:', data_batch.shape)\n",
    "    print('labels batch shape:', labels_batch.shape)\n",
    "    break\n",
    "\n",
    "Model = conv(input_shape=(128,1024,3))\n",
    "Model.compile()\n",
    "print(Model.model.summary())\n",
    "history = Model.fit_generator(train_generator, validation_generator, epochs=20)"
   ]
  },
  {
   "cell_type": "code",
   "execution_count": 2,
   "metadata": {
    "collapsed": true
   },
   "outputs": [],
   "source": [
    "a = history.history"
   ]
  },
  {
   "cell_type": "code",
   "execution_count": 5,
   "metadata": {},
   "outputs": [
    {
     "data": {
      "image/png": "[encoded data removed]",
      "text/plain": [
       "<matplotlib.figure.Figure at 0x7f0f3822b748>"
      ]
     },
     "metadata": {},
     "output_type": "display_data"
    },
    {
     "data": {
      "image/png": "[encoded data removed]",
      "text/plain": [
       "<matplotlib.figure.Figure at 0x7f0f3813fa58>"
      ]
     },
     "metadata": {},
     "output_type": "display_data"
    }
   ],
   "source": [
    "acc = a['acc']\n",
    "val_acc = a['val_acc']\n",
    "loss = a['loss']\n",
    "val_loss = a['val_loss']\n",
    "\n",
    "epochs = range(len(acc))\n",
    "\n",
    "plt.plot(epochs, acc, 'bo', label='Training acc')\n",
    "plt.plot(epochs, val_acc, 'b', label='Validation acc')\n",
    "plt.title('Training and validation accuracy')\n",
    "ax = plt.gca()\n",
    "ax.set_ylim(0,1)\n",
    "ax.set_xticks([0,2,4,6,8,10,12,14,16,18,20])\n",
    "plt.legend()\n",
    "\n",
    "plt.figure()\n",
    "\n",
    "plt.plot(epochs, loss, 'bo', label='Training loss')\n",
    "plt.plot(epochs, val_loss, 'b', label='Validation loss')\n",
    "plt.title('Training and validation loss')\n",
    "ax = plt.gca()\n",
    "ax.set_xticks([0,2,4,6,8,10,12,14,16,18,20])\n",
    "plt.legend()\n",
    "\n",
    "plt.show()\n"
   ]
  },
  {
   "cell_type": "markdown",
   "metadata": {
    "collapsed": true
   },
   "source": [
    "Even with 20 epochs, it is already showing signs of overfitting as compared to the validation set. Data Augmentation could help."
   ]
  },
  {
   "cell_type": "code",
   "execution_count": null,
   "metadata": {
    "collapsed": true
   },
   "outputs": [],
   "source": []
  }
 ],
 "metadata": {
  "kernelspec": {
   "display_name": "Python 3",
   "language": "python",
   "name": "python3"
  },
  "language_info": {
   "codemirror_mode": {
    "name": "ipython",
    "version": 3
   },
   "file_extension": ".py",
   "mimetype": "text/x-python",
   "name": "python",
   "nbconvert_exporter": "python",
   "pygments_lexer": "ipython3",
   "version": "3.6.3"
  }
 },
 "nbformat": 4,
 "nbformat_minor": 2
}
