{
 "cells": [
  {
   "cell_type": "markdown",
   "metadata": {},
   "source": [
    "## ConvConvPool with data augmentation\n",
    "\n",
    "Following up with the better results on the conv-conv-pool architecture without augmentation, I decided to try this out by augmenting the dataset with a zoom factor of 0.3, just like in the convpool model."
   ]
  },
  {
   "cell_type": "code",
   "execution_count": 1,
   "metadata": {
    "collapsed": true
   },
   "outputs": [],
   "source": [
    "import matplotlib.pyplot as plt"
   ]
  },
  {
   "cell_type": "code",
   "execution_count": 2,
   "metadata": {},
   "outputs": [
    {
     "name": "stderr",
     "output_type": "stream",
     "text": [
      "Using TensorFlow backend.\n"
     ]
    },
    {
     "name": "stdout",
     "output_type": "stream",
     "text": [
      "Found 6394 images belonging to 8 classes.\n",
      "Found 800 images belonging to 8 classes.\n",
      "Found 800 images belonging to 8 classes.\n",
      "data batch shape: (20, 128, 1024, 3)\n",
      "labels batch shape: (20, 8)\n",
      "_________________________________________________________________\n",
      "Layer (type)                 Output Shape              Param #   \n",
      "=================================================================\n",
      "conv2d_1 (Conv2D)            (None, 64, 512, 32)       416       \n",
      "_________________________________________________________________\n",
      "conv2d_2 (Conv2D)            (None, 32, 256, 32)       4128      \n",
      "_________________________________________________________________\n",
      "batch_normalization_1 (Batch (None, 32, 256, 32)       128       \n",
      "_________________________________________________________________\n",
      "max_pooling2d_1 (MaxPooling2 (None, 16, 128, 32)       0         \n",
      "_________________________________________________________________\n",
      "conv2d_3 (Conv2D)            (None, 15, 127, 64)       8256      \n",
      "_________________________________________________________________\n",
      "conv2d_4 (Conv2D)            (None, 14, 126, 64)       16448     \n",
      "_________________________________________________________________\n",
      "batch_normalization_2 (Batch (None, 14, 126, 64)       256       \n",
      "_________________________________________________________________\n",
      "max_pooling2d_2 (MaxPooling2 (None, 7, 63, 64)         0         \n",
      "_________________________________________________________________\n",
      "dropout_1 (Dropout)          (None, 7, 63, 64)         0         \n",
      "_________________________________________________________________\n",
      "flatten_1 (Flatten)          (None, 28224)             0         \n",
      "_________________________________________________________________\n",
      "dense_1 (Dense)              (None, 1024)              28902400  \n",
      "_________________________________________________________________\n",
      "batch_normalization_3 (Batch (None, 1024)              4096      \n",
      "_________________________________________________________________\n",
      "activation_1 (Activation)    (None, 1024)              0         \n",
      "_________________________________________________________________\n",
      "dropout_2 (Dropout)          (None, 1024)              0         \n",
      "_________________________________________________________________\n",
      "dense_2 (Dense)              (None, 8)                 8200      \n",
      "=================================================================\n",
      "Total params: 28,944,328\n",
      "Trainable params: 28,942,088\n",
      "Non-trainable params: 2,240\n",
      "_________________________________________________________________\n",
      "None\n",
      "Training model:\n",
      "Epoch 1/20\n",
      "319/319 [==============================] - 140s - loss: 2.1259 - acc: 0.3092 - val_loss: 3.1111 - val_acc: 0.1663\n",
      "Epoch 2/20\n",
      "319/319 [==============================] - 138s - loss: 1.8440 - acc: 0.3669 - val_loss: 2.1015 - val_acc: 0.2288\n",
      "Epoch 3/20\n",
      "319/319 [==============================] - 136s - loss: 1.7034 - acc: 0.4059 - val_loss: 2.8570 - val_acc: 0.2163\n",
      "Epoch 4/20\n",
      "319/319 [==============================] - 136s - loss: 1.6561 - acc: 0.4233 - val_loss: 2.0752 - val_acc: 0.2925\n",
      "Epoch 5/20\n",
      "319/319 [==============================] - 136s - loss: 1.5929 - acc: 0.4370 - val_loss: 2.7534 - val_acc: 0.2225\n",
      "Epoch 6/20\n",
      "319/319 [==============================] - 138s - loss: 1.5500 - acc: 0.4582 - val_loss: 4.7256 - val_acc: 0.1338\n",
      "Epoch 7/20\n",
      "319/319 [==============================] - 137s - loss: 1.5223 - acc: 0.4663 - val_loss: 2.9671 - val_acc: 0.2475\n",
      "Epoch 8/20\n",
      "319/319 [==============================] - 136s - loss: 1.4987 - acc: 0.4726 - val_loss: 2.6135 - val_acc: 0.2013\n",
      "Epoch 9/20\n",
      "319/319 [==============================] - 136s - loss: 1.4705 - acc: 0.4793 - val_loss: 2.0623 - val_acc: 0.3450\n",
      "Epoch 10/20\n",
      "319/319 [==============================] - 137s - loss: 1.4467 - acc: 0.4883 - val_loss: 2.4484 - val_acc: 0.2088\n",
      "Epoch 11/20\n",
      "319/319 [==============================] - 137s - loss: 1.4227 - acc: 0.5036 - val_loss: 2.1085 - val_acc: 0.3100\n",
      "Epoch 12/20\n",
      "319/319 [==============================] - 137s - loss: 1.3977 - acc: 0.5057 - val_loss: 2.1176 - val_acc: 0.3688\n",
      "Epoch 13/20\n",
      "319/319 [==============================] - 138s - loss: 1.3778 - acc: 0.5132 - val_loss: 2.0358 - val_acc: 0.3238\n",
      "Epoch 14/20\n",
      "319/319 [==============================] - 137s - loss: 1.3841 - acc: 0.5103 - val_loss: 1.9634 - val_acc: 0.3363\n",
      "Epoch 15/20\n",
      "319/319 [==============================] - 138s - loss: 1.3644 - acc: 0.5203 - val_loss: 1.6191 - val_acc: 0.4288\n",
      "Epoch 16/20\n",
      "319/319 [==============================] - 130s - loss: 1.3305 - acc: 0.5356 - val_loss: 1.7098 - val_acc: 0.3950\n",
      "Epoch 17/20\n",
      "319/319 [==============================] - 133s - loss: 1.3189 - acc: 0.5312 - val_loss: 1.9945 - val_acc: 0.3388\n",
      "Epoch 18/20\n",
      "319/319 [==============================] - 136s - loss: 1.2996 - acc: 0.5396 - val_loss: 1.6591 - val_acc: 0.4363\n",
      "Epoch 19/20\n",
      "319/319 [==============================] - 136s - loss: 1.2806 - acc: 0.5498 - val_loss: 1.6171 - val_acc: 0.4188\n",
      "Epoch 20/20\n",
      "319/319 [==============================] - 137s - loss: 1.2720 - acc: 0.5543 - val_loss: 1.8576 - val_acc: 0.3988\n",
      "Training finished!\n",
      "Time taken: 2742.0488464832306s\n"
     ]
    }
   ],
   "source": [
    "from convolutionalmodel3 import Convtrain as conv\n",
    "from keras.preprocessing.image import ImageDataGenerator\n",
    "\n",
    "train_datagen = ImageDataGenerator(\n",
    "      rescale=1./255,\n",
    "      rotation_range=0.,\n",
    "      width_shift_range=0.,\n",
    "      height_shift_range=0.,\n",
    "      shear_range=0.,\n",
    "      zoom_range=0.3,\n",
    "      horizontal_flip=False,\n",
    "      fill_mode='nearest')\n",
    "\n",
    "test_datagen = ImageDataGenerator(rescale=1./255)\n",
    "\n",
    "train_generator = train_datagen.flow_from_directory('dataset/', target_size = (128,1024), batch_size = 20, \n",
    "                                                    class_mode = 'categorical')\n",
    "\n",
    "validation_generator = test_datagen.flow_from_directory('validation/', target_size = (128,1024), batch_size =20,\n",
    "                                                       class_mode = 'categorical')\n",
    "test_generator = test_datagen.flow_from_directory('test/', target_size = (128,1024), batch_size = 20,\n",
    "                                                 class_mode = 'categorical')\n",
    "\n",
    "for data_batch, labels_batch in train_generator:\n",
    "    print('data batch shape:', data_batch.shape)\n",
    "    print('labels batch shape:', labels_batch.shape)\n",
    "    break\n",
    "\n",
    "Model = conv(input_shape=(128,1024,3))\n",
    "Model.compile()\n",
    "print(Model.model.summary())\n",
    "history = Model.fit_generator(train_generator, validation_generator, epochs=20)"
   ]
  },
  {
   "cell_type": "code",
   "execution_count": 3,
   "metadata": {
    "collapsed": true
   },
   "outputs": [],
   "source": [
    "a = history.history"
   ]
  },
  {
   "cell_type": "code",
   "execution_count": 4,
   "metadata": {},
   "outputs": [
    {
     "data": {
      "image/png": "[encoded data removed]",
      "text/plain": [
       "<matplotlib.figure.Figure at 0x7fe9adc7b898>"
      ]
     },
     "metadata": {},
     "output_type": "display_data"
    },
    {
     "data": {
      "image/png": "[encoded data removed]",
      "text/plain": [
       "<matplotlib.figure.Figure at 0x7fe9ad013ef0>"
      ]
     },
     "metadata": {},
     "output_type": "display_data"
    }
   ],
   "source": [
    "acc = a['acc']\n",
    "val_acc = a['val_acc']\n",
    "loss = a['loss']\n",
    "val_loss = a['val_loss']\n",
    "\n",
    "epochs = range(len(acc))\n",
    "\n",
    "plt.plot(epochs, acc, 'bo', label='Training acc')\n",
    "plt.plot(epochs, val_acc, 'b', label='Validation acc')\n",
    "plt.title('Training and validation accuracy')\n",
    "ax = plt.gca()\n",
    "ax.set_ylim(0,1)\n",
    "ax.set_xticks([0,2,4,6,8,10,12,14,16,18,20])\n",
    "plt.legend()\n",
    "\n",
    "plt.figure()\n",
    "\n",
    "plt.plot(epochs, loss, 'bo', label='Training loss')\n",
    "plt.plot(epochs, val_loss, 'b', label='Validation loss')\n",
    "plt.title('Training and validation loss')\n",
    "ax = plt.gca()\n",
    "ax.set_xticks([0,2,4,6,8,10,12,14,16,18,20])\n",
    "plt.legend()\n",
    "\n",
    "plt.show()\n"
   ]
  },
  {
   "cell_type": "markdown",
   "metadata": {
    "collapsed": true
   },
   "source": [
    "This looks better. Aside from the anomalous validation loss - The validation accuracies and losses are getting better. I shall run this on a larger amount of epochs to continue training and maybe increase the number of batches to train on."
   ]
  }
 ],
 "metadata": {
  "kernelspec": {
   "display_name": "Python 3",
   "language": "python",
   "name": "python3"
  },
  "language_info": {
   "codemirror_mode": {
    "name": "ipython",
    "version": 3
   },
   "file_extension": ".py",
   "mimetype": "text/x-python",
   "name": "python",
   "nbconvert_exporter": "python",
   "pygments_lexer": "ipython3",
   "version": "3.6.3"
  }
 },
 "nbformat": 4,
 "nbformat_minor": 2
}
